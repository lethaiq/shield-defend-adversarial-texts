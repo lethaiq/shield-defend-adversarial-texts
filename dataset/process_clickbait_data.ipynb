{
 "cells": [
  {
   "cell_type": "code",
   "execution_count": 2,
   "metadata": {},
   "outputs": [],
   "source": [
    "import pandas as pd\n",
    "import numpy as np"
   ]
  },
  {
   "cell_type": "code",
   "execution_count": 7,
   "metadata": {},
   "outputs": [],
   "source": [
    "with open('./non_clickbait_data') as f:\n",
    "    neg = f.readlines()\n",
    "neg = [a.replace('\\n','') for a in neg]\n",
    "with open('./clickbait_data') as f:\n",
    "    pos = f.readlines()\n",
    "pos = [a.replace('\\n','') for a in pos]"
   ]
  },
  {
   "cell_type": "code",
   "execution_count": 11,
   "metadata": {},
   "outputs": [],
   "source": [
    "data= []\n",
    "for i in range(len(neg)):\n",
    "    tmp = {}\n",
    "    tmp['text'] = neg[i]\n",
    "    tmp['label'] = 0\n",
    "    data.append(tmp)\n",
    "for i in range(len(pos)):\n",
    "    tmp = {}\n",
    "    tmp['text'] = pos[i]\n",
    "    tmp['label'] = 1\n",
    "    data.append(tmp)\n",
    "df = pd.DataFrame.from_dict(data)"
   ]
  },
  {
   "cell_type": "code",
   "execution_count": 12,
   "metadata": {},
   "outputs": [],
   "source": [
    "from sklearn.model_selection import train_test_split"
   ]
  },
  {
   "cell_type": "code",
   "execution_count": 16,
   "metadata": {},
   "outputs": [],
   "source": [
    "X_train, X_test, _, _ = train_test_split(df, df['label'], stratify=df['label'].values, test_size=0.1, random_state=777)"
   ]
  },
  {
   "cell_type": "code",
   "execution_count": 17,
   "metadata": {},
   "outputs": [],
   "source": [
    "X_train, X_val, _, _ = train_test_split(X_train, X_train['label'], stratify=X_train['label'].values, test_size=0.1, random_state=777)"
   ]
  },
  {
   "cell_type": "code",
   "execution_count": 20,
   "metadata": {},
   "outputs": [],
   "source": [
    "X_train.to_csv('clickbait_train.csv', index=None)\n",
    "X_val.to_csv('clickbait_val.csv', index=None)\n",
    "X_test.to_csv('clickbait_test.csv', index=None)"
   ]
  },
  {
   "cell_type": "code",
   "execution_count": null,
   "metadata": {},
   "outputs": [],
   "source": [
    "X_train.sample(500).to_csv('clickbait_train.csv', index=None)\n",
    "X_val.sample(500).to_csv('clickbait_val.csv', index=None)\n",
    "X_test.sample(500).to_csv('clickbait_test.csv', index=None)"
   ]
  }
 ],
 "metadata": {
  "kernelspec": {
   "display_name": "Python 3",
   "language": "python",
   "name": "python3"
  },
  "language_info": {
   "codemirror_mode": {
    "name": "ipython",
    "version": 3
   },
   "file_extension": ".py",
   "mimetype": "text/x-python",
   "name": "python",
   "nbconvert_exporter": "python",
   "pygments_lexer": "ipython3",
   "version": "3.7.3"
  }
 },
 "nbformat": 4,
 "nbformat_minor": 2
}
