{
 "cells": [
  {
   "cell_type": "code",
   "execution_count": 1,
   "metadata": {},
   "outputs": [],
   "source": [
    "import pandas as pd\n",
    "import numpy as np"
   ]
  },
  {
   "cell_type": "code",
   "execution_count": 2,
   "metadata": {},
   "outputs": [],
   "source": [
    "dataset = \"sst\""
   ]
  },
  {
   "cell_type": "code",
   "execution_count": 3,
   "metadata": {},
   "outputs": [],
   "source": [
    "X_train = []\n",
    "X_val = []\n",
    "X_test = []\n",
    "with open('./stsa.binary.train', encoding='utf-8') as f:\n",
    "    data = f.readlines()\n",
    "    for s in data:\n",
    "        tmp = {}\n",
    "        tmp['text'] = s.replace('\\n','')[1:].strip()\n",
    "        tmp['label'] = int(s.replace('\\n','')[:1])\n",
    "        X_train.append(tmp)\n",
    "with open('./stsa.binary.dev', encoding='utf-8') as f:\n",
    "    data = f.readlines()\n",
    "    for s in data:\n",
    "        tmp = {}\n",
    "        tmp['text'] = s.replace('\\n','')[1:].strip()\n",
    "        tmp['label'] = int(s.replace('\\n','')[:1])\n",
    "        X_val.append(tmp)\n",
    "with open('./stsa.binary.test', encoding='utf-8') as f:\n",
    "    data = f.readlines()\n",
    "    for s in data:\n",
    "        tmp = {}\n",
    "        tmp['text'] = s.replace('\\n','')[1:].strip()\n",
    "        tmp['label'] = int(s.replace('\\n','')[:1])\n",
    "        X_test.append(tmp)"
   ]
  },
  {
   "cell_type": "code",
   "execution_count": 4,
   "metadata": {},
   "outputs": [],
   "source": [
    "X_train = pd.DataFrame.from_dict(X_train)\n",
    "X_val = pd.DataFrame.from_dict(X_val)\n",
    "X_test = pd.DataFrame.from_dict(X_test)"
   ]
  },
  {
   "cell_type": "code",
   "execution_count": 5,
   "metadata": {},
   "outputs": [],
   "source": [
    "X_train.to_csv('{}_train.csv'.format(dataset), index=None)\n",
    "X_val.to_csv('{}_val.csv'.format(dataset), index=None)\n",
    "X_test.to_csv('{}_test.csv'.format(dataset), index=None)"
   ]
  },
  {
   "cell_type": "code",
   "execution_count": 6,
   "metadata": {},
   "outputs": [
    {
     "data": {
      "text/plain": [
       "((6920, 2), (872, 2), (1821, 2))"
      ]
     },
     "execution_count": 6,
     "metadata": {},
     "output_type": "execute_result"
    }
   ],
   "source": [
    "X_train.shape, X_val.shape, X_test.shape"
   ]
  },
  {
   "cell_type": "code",
   "execution_count": 7,
   "metadata": {},
   "outputs": [],
   "source": [
    "X_train.sample(500).to_csv('{}_train_small.csv'.format(dataset), index=None)\n",
    "X_val.sample(500).to_csv('{}_val_small.csv'.format(dataset), index=None)\n",
    "X_test.sample(500).to_csv('{}_test_small.csv'.format(dataset), index=None)"
   ]
  },
  {
   "cell_type": "code",
   "execution_count": 8,
   "metadata": {},
   "outputs": [
    {
     "data": {
      "text/plain": [
       "((6920, 2), (872, 2), (1821, 2))"
      ]
     },
     "execution_count": 8,
     "metadata": {},
     "output_type": "execute_result"
    }
   ],
   "source": [
    "X_train.shape, X_val.shape, X_test.shape"
   ]
  },
  {
   "cell_type": "code",
   "execution_count": null,
   "metadata": {},
   "outputs": [],
   "source": []
  },
  {
   "cell_type": "code",
   "execution_count": null,
   "metadata": {},
   "outputs": [],
   "source": []
  }
 ],
 "metadata": {
  "kernelspec": {
   "display_name": "Python 3",
   "language": "python",
   "name": "python3"
  },
  "language_info": {
   "codemirror_mode": {
    "name": "ipython",
    "version": 3
   },
   "file_extension": ".py",
   "mimetype": "text/x-python",
   "name": "python",
   "nbconvert_exporter": "python",
   "pygments_lexer": "ipython3",
   "version": "3.7.3"
  }
 },
 "nbformat": 4,
 "nbformat_minor": 2
}
